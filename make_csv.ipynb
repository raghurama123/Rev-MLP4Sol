{
 "cells": [
  {
   "cell_type": "code",
   "execution_count": 20,
   "id": "5c1db941",
   "metadata": {},
   "outputs": [],
   "source": [
    "import numpy as np \n",
    "import pandas as pd \n",
    "\n",
    "meV2kcal = 23.0609 * 10**(-3) # 1 eV = 23.0609 kcal/mol"
   ]
  },
  {
   "cell_type": "markdown",
   "id": "3b8b756e",
   "metadata": {},
   "source": [
    "For **MD17** dataset, the MAEs will be always in the follwoing order: \n",
    "1. Aspirin\n",
    "2. Azobenzene\n",
    "3. Benzene\n",
    "4. Ethanol\n",
    "5. Malondialdehyde\n",
    "6. Naphthalene\n",
    "7. Paracetamol\n",
    "8. Salicylic_Acid\n",
    "9. Toluene\n",
    "10. Uracil\n",
    "\n",
    "For **QM9** dataset, the MAEs will be always in the follwoing order: \n",
    "1. \n",
    "2. \n",
    "3. \n",
    "4. \n",
    "5. \n",
    "6. \n",
    "7. \n",
    "8. \n",
    "9. \n",
    "10. \n",
    "11. \n",
    "12. \n",
    "13.\n",
    "\n",
    "If analysis for a molcule for particular ML archetecture is missing, then it will be marked as '**np.nan**'."
   ]
  },
  {
   "cell_type": "markdown",
   "id": "3edd4a16",
   "metadata": {},
   "source": [
    "#### SchNet\n",
    "\n"
   ]
  },
  {
   "cell_type": "code",
   "execution_count": 21,
   "id": "48d1f097",
   "metadata": {},
   "outputs": [],
   "source": [
    "schnet = {\n",
    "    'MD17': {\n",
    "        'unit': 'kcal',\n",
    "        'E': [0.37,np.nan,0.08,0.08,0.13,0.16,np.nan,0.20,0.12,0.14],\n",
    "        'F': [1.35,np.nan,0.31,0.39,0.66,0.58,np.nan,0.85,0.57,0.56]\n",
    "    }\n",
    "}\n"
   ]
  },
  {
   "cell_type": "code",
   "execution_count": 22,
   "id": "c5a53677",
   "metadata": {},
   "outputs": [],
   "source": [
    "# mgcn = {\n",
    "#     'MD17': {\n",
    "#         'unit': ,\n",
    "#         'E': [],\n",
    "#         'F': []\n",
    "#     }\n",
    "# }"
   ]
  },
  {
   "cell_type": "code",
   "execution_count": 23,
   "id": "edc9c42f",
   "metadata": {},
   "outputs": [],
   "source": [
    "dimenet = {\n",
    "    'MD17': {\n",
    "        'unit': 'kcal',\n",
    "        'E': [0.204,np.nan,0.078,0.064,0.104,0.122,np.nan,0.134,0.102,0.115],\n",
    "        'F': [0.499,np.nan,0.187,0.230,0.383,0.215,np.nan,0.374,0.216,0.301]\n",
    "    }\n",
    "}"
   ]
  },
  {
   "cell_type": "code",
   "execution_count": 24,
   "id": "be580a02",
   "metadata": {},
   "outputs": [],
   "source": [
    "# physnet  = {\n",
    "#     'MD17': {\n",
    "#         'unit': ,\n",
    "#         'E': [],\n",
    "#         'F': []\n",
    "#     }\n",
    "# }"
   ]
  },
  {
   "cell_type": "code",
   "execution_count": 25,
   "id": "bc698795",
   "metadata": {},
   "outputs": [],
   "source": [
    "gemnet  = {\n",
    "    'MD17': {\n",
    "        'unit': 'kcal',\n",
    "        'E': [np.nan,np.nan,np.nan,np.nan,np.nan,np.nan,np.nan,np.nan,np.nan,np.nan],\n",
    "        'F': [0.217,np.nan,np.nan,0.088,0.159,0.051,np.nan,0.124,0.060,0.104]\n",
    "    }\n",
    "}\n",
    "\n",
    "# GemNET MAEs are a bit different in SO3krates and MACE papers, check original"
   ]
  },
  {
   "cell_type": "code",
   "execution_count": 26,
   "id": "81897487",
   "metadata": {},
   "outputs": [],
   "source": [
    "painn = {\n",
    "    'MD17': {\n",
    "        'unit': 'kcal',\n",
    "        'E': [0.167,np.nan,np.nan,0.064,0.091,0.116,np.nan,0.116,0.095,0.106],\n",
    "        'F': [0.338,np.nan,np.nan,0.224,0.319,0.077,np.nan,0.195,0.094,0.139]\n",
    "    }\n",
    "}\n",
    "\n",
    "# PaiNN MAEs are not same in SO3krates and ENINet papers, check original\n",
    "# same in SO3krates and MACE"
   ]
  },
  {
   "cell_type": "code",
   "execution_count": 27,
   "id": "3d0df0d5",
   "metadata": {},
   "outputs": [],
   "source": [
    "eninet = {\n",
    "    'MD17': {\n",
    "        'unit': 'kcal',\n",
    "        'E': [0.148,np.nan,0.074,0.043,0.071,0.077,np.nan,0.092,0.078,0.093],\n",
    "        'F': [0.198,np.nan,0.169,0.100,0.192,0.046,np.nan,0.093,0.051,0.082]\n",
    "    }\n",
    "}"
   ]
  },
  {
   "cell_type": "code",
   "execution_count": 28,
   "id": "e21d7b46",
   "metadata": {},
   "outputs": [],
   "source": [
    "spookynet  = {\n",
    "    'MD17': {\n",
    "        'unit': 'kcal',\n",
    "        'E': [0.151,np.nan,np.nan,0.052,0.079,0.116,np.nan,0.114,0.094,0.105],\n",
    "        'F': [0.258,np.nan,np.nan,0.094,0.167,0.089,np.nan,0.180,0.087,0.119]\n",
    "    }\n",
    "}"
   ]
  },
  {
   "cell_type": "code",
   "execution_count": 29,
   "id": "7b0f39a3",
   "metadata": {},
   "outputs": [],
   "source": [
    "# neqip_l0 = {\n",
    "#     'MD17': {\n",
    "#         'unit': ,\n",
    "#         'E': [],\n",
    "#         'F': []\n",
    "#     }\n",
    "# }\n",
    "\n",
    "neqip_l1 = {\n",
    "    'MD17': {\n",
    "        'unit': 'kcal',\n",
    "        'E': [np.nan,np.nan,np.nan,np.nan,np.nan,np.nan,np.nan,np.nan,np.nan,np.nan],\n",
    "        'F': [0.348,np.nan,0.187,0.208,0.337,0.097,np.nan,0.238,0.101,0.173]\n",
    "    }\n",
    "}\n",
    "\n",
    "# neqip_l2 = {\n",
    "#     'MD17': {\n",
    "#         'unit': ,\n",
    "#         'E': [],\n",
    "#         'F': []\n",
    "#     }\n",
    "# }\n",
    "\n",
    "# neqip_l3 = {\n",
    "#     'MD17': {\n",
    "#         'unit': ,\n",
    "#         'E': [],\n",
    "#         'F': []\n",
    "#     }\n",
    "# }\n",
    "\n",
    "# Cross-check all NequIP MAEs from the original paper !!!!!!!"
   ]
  },
  {
   "cell_type": "code",
   "execution_count": 30,
   "id": "ee4138f8",
   "metadata": {},
   "outputs": [],
   "source": [
    "mace = {\n",
    "    'MD17': {\n",
    "        'unit': 'kcal',\n",
    "        'E': [0.051,0.028,0.009,0.009,0.018,0.012,0.030,0.021,0.012,0.012],\n",
    "        'F': [0.125,0.069,0.007,0.048,0.095,0.037,0.111,0.071,0.035,0.048]\n",
    "    }\n",
    "}"
   ]
  },
  {
   "cell_type": "code",
   "execution_count": 31,
   "id": "5d5451b0",
   "metadata": {},
   "outputs": [],
   "source": [
    "newtonnet = {\n",
    "    'MD17': {\n",
    "        'unit': 'kcal',\n",
    "        'E': [0.168,0.141,np.nan,0.078,0.096,0.118,0.141,0.115,0.94,0.107],\n",
    "        'F': [0.348,0.136,np.nan,0.264,0.323,0.084,0.263,0.197,0.88,0.149]\n",
    "    }\n",
    "}\n",
    "\n",
    "# Ethanol is not same, check original ENINet: 0.078/0.264 So3krates:0.061/0.211 MACE: 0.060/0.210"
   ]
  },
  {
   "cell_type": "code",
   "execution_count": 32,
   "id": "35b3a4c7",
   "metadata": {},
   "outputs": [],
   "source": [
    "allegro = {\n",
    "    'MD17': {\n",
    "        'unit': 'kcal',\n",
    "        'E': [0.053,0.028,0.007,0.009,0.014,0.005,0.035,0.021,0.009,0.014],\n",
    "        'F': [0.168,0.060,0.005,0.048,0.083,0.021,0.113,0.067,0.042,0.042]\n",
    "    }\n",
    "}"
   ]
  },
  {
   "cell_type": "code",
   "execution_count": 33,
   "id": "91e7c7c0",
   "metadata": {},
   "outputs": [],
   "source": [
    "so3krates = {\n",
    "    'MD17': {\n",
    "        'unit': 'kcal',\n",
    "        'E': [0.139,np.nan,np.nan,0.052,0.077,0.115,np.nan,0.106,0.095,0.103],\n",
    "        'F': [0.236,np.nan,np.nan,0.096,0.147,0.074,np.nan,0.145,0.073,0.111]\n",
    "    }\n",
    "}"
   ]
  },
  {
   "cell_type": "code",
   "execution_count": 34,
   "id": "bf444f4b",
   "metadata": {},
   "outputs": [],
   "source": [
    "# fchl = {\n",
    "#     'MD17': {\n",
    "#         'unit': ,\n",
    "#         'E': [],\n",
    "#         'F': []\n",
    "#     }\n",
    "# }"
   ]
  },
  {
   "cell_type": "code",
   "execution_count": 35,
   "id": "72164cfa",
   "metadata": {},
   "outputs": [],
   "source": [
    "# gap_soap = {\n",
    "#     'MD17': {\n",
    "#         'unit': ,\n",
    "#         'E': [],\n",
    "#         'F': []\n",
    "#     }\n",
    "# }"
   ]
  },
  {
   "cell_type": "code",
   "execution_count": null,
   "id": "44b1ca4b",
   "metadata": {},
   "outputs": [],
   "source": []
  }
 ],
 "metadata": {
  "kernelspec": {
   "display_name": "Python 3",
   "language": "python",
   "name": "python3"
  },
  "language_info": {
   "codemirror_mode": {
    "name": "ipython",
    "version": 3
   },
   "file_extension": ".py",
   "mimetype": "text/x-python",
   "name": "python",
   "nbconvert_exporter": "python",
   "pygments_lexer": "ipython3",
   "version": "3.12.3"
  }
 },
 "nbformat": 4,
 "nbformat_minor": 5
}
