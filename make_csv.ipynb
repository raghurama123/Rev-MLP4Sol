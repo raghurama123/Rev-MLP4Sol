{
 "cells": [
  {
   "cell_type": "code",
   "execution_count": 70,
   "id": "5c1db941",
   "metadata": {},
   "outputs": [],
   "source": [
    "import numpy as np \n",
    "import pandas as pd \n",
    "\n",
    "meV2kcal = 23.0609 * 10**(-3) # 1 eV   = 23.0609 kcal/mol\n",
    "bohr2A   = 0.529177249        # 1 Bohr = 0.529177249 A "
   ]
  },
  {
   "cell_type": "markdown",
   "id": "3b8b756e",
   "metadata": {},
   "source": [
    "For **MD17** dataset, the MAEs will be always in the follwoing order: \n",
    "1. Aspirin\n",
    "2. Azobenzene\n",
    "3. Benzene\n",
    "4. Ethanol\n",
    "5. Malonaldehyde\n",
    "6. Naphthalene\n",
    "7. Paracetamol\n",
    "8. Salicylic_Acid\n",
    "9. Toluene\n",
    "10. Uracil\n",
    "\n",
    "For **QM9** dataset, the MAEs will be always in the follwoing order: \n",
    "1.  $\\mu$  \n",
    "2.  $\\alpha$  \n",
    "3.  $\\epsilon_{\\text{HOMO}}$  \n",
    "4.  $\\epsilon_{\\text{LUMO}}$  \n",
    "5.  $\\Delta \\epsilon$  \n",
    "6.  $\\langle R^2 \\rangle$  \n",
    "7.  $\\text{ZPVE}$  \n",
    "8.  $U_0$  \n",
    "9.  $U$  \n",
    "10. $H$  \n",
    "11. $G$  \n",
    "12. $c_v$\n",
    "\n",
    "If analysis for a molcule for particular ML archetecture is missing, then it will be marked by '**-1**'."
   ]
  },
  {
   "cell_type": "markdown",
   "id": "502b44ff",
   "metadata": {},
   "source": [
    "Poitns to be remebered\n",
    "1. For MD17 , training size is <b>1000</b> datasets (950/50).\n",
    "2. Data from <b>original</b> paper.\n",
    "3. <b>Rounding</b> of MAEs."
   ]
  },
  {
   "cell_type": "code",
   "execution_count": 71,
   "id": "48d1f097",
   "metadata": {},
   "outputs": [],
   "source": [
    "schnet = { # Train on both\n",
    "    'MD17': {\n",
    "        'unit': 'kcal',\n",
    "        'E': [0.37,'x',0.08,0.08,0.13,0.16,'x',0.20,0.12,0.14],\n",
    "        'F': [1.35,'x',0.31,0.39,0.66,0.58,'x',0.85,0.57,0.56]\n",
    "    },\n",
    "    'QM9': {\n",
    "        'unit': 'kcal/mol_D_A3',\n",
    "        'mae': [0.033,0.035,0.945,0.784,1.453,0.020,0.039,0.323,0.438,0.323,0.323,0.033]\n",
    "    }\n",
    "}\n"
   ]
  },
  {
   "cell_type": "code",
   "execution_count": 72,
   "id": "c5a53677",
   "metadata": {},
   "outputs": [],
   "source": [
    "# mgcn = {\n",
    "#     'MD17': {\n",
    "#         'unit': ,\n",
    "#         'E': [],\n",
    "#         'F': []\n",
    "#     }\n",
    "# }\n",
    "\n",
    "# MGCN have no data with MD17."
   ]
  },
  {
   "cell_type": "code",
   "execution_count": 73,
   "id": "edc9c42f",
   "metadata": {},
   "outputs": [],
   "source": [
    "dimenet = {\n",
    "    'MD17': {\n",
    "        'unit': 'kcal',\n",
    "        'E': [0.204,'x',0.078,0.064,0.104,0.122,'x',0.134,0.102,0.115],\n",
    "        'F': [0.499,'x',0.187,0.230,0.383,0.215,'x',0.374,0.216,0.301]\n",
    "    },\n",
    "    'QM9': {\n",
    "        'unit': 'kcal/mol_D_A3',\n",
    "        'mae': [0.030,0.007,0.567,0.450,0.752,0.093,0.028,0.146,0.145,0.151,0.174,0.023]\n",
    "    }\n",
    "}"
   ]
  },
  {
   "cell_type": "code",
   "execution_count": 74,
   "id": "be580a02",
   "metadata": {},
   "outputs": [],
   "source": [
    "physnet  = {\n",
    "    'MD17': {\n",
    "        'unit': 'kcal',\n",
    "        'E': [0.230,'x','x',0.059,0.094,0.142,'x',0.126,0.100,0.108],\n",
    "        'F': [0.605,'x','x',0.160,0.319,0.310,'x',0.337,0.191,0.218]\n",
    "    },\n",
    "    'QM9': {\n",
    "        'unit': 'kcal/mol_D_A3',\n",
    "        'mae': [0.053,0.009,0.759,0.570,0.980,0.214,0.032,0.188,0.192,0.194,0.217,0.028]\n",
    "    }\n",
    "}\n",
    "\n",
    "# This is for 1k training data, reported in PaiNN paper.\n",
    "# In the original PhysNet paper, the training was done on 50k training data."
   ]
  },
  {
   "cell_type": "code",
   "execution_count": 75,
   "id": "bc698795",
   "metadata": {},
   "outputs": [],
   "source": [
    "gemnet_q  = {\n",
    "    'MD17': {\n",
    "        'unit': 'kcal',\n",
    "        'E': ['x','x','x','x','x','x','x','x','x','x'],\n",
    "        'F': [0.217,'x','x',0.088,0.159,0.051,'x',0.125,0.060,0.104]\n",
    "    }\n",
    "}\n",
    "\n",
    "gemnet_t  = {\n",
    "    'MD17': {\n",
    "        'unit': 'kcal',\n",
    "        'E': ['x','x','x','x','x','x','x','x','x','x'],\n",
    "        'F': [0.219,'x','x',0.085,0.155,0.055,'x',0.127,0.060,0.097]\n",
    "    }\n",
    "}"
   ]
  },
  {
   "cell_type": "code",
   "execution_count": 76,
   "id": "81897487",
   "metadata": {},
   "outputs": [],
   "source": [
    "painn_force_only = { #Trained on forces only\n",
    "    'MD17': {\n",
    "        'unit': 'kcal',\n",
    "        'E': [0.167,'x','x',0.064,0.100,0.116,'x',0.116,0.095,0.106],\n",
    "        'F': [0.338,'x','x',0.224,0.344,0.077,'x',0.195,0.094,0.139]\n",
    "    }\n",
    "}\n",
    "\n",
    "painn_force_energy = { #Trained on both both energies and forces\n",
    "    'MD17': {\n",
    "        'unit': 'kcal',\n",
    "        'E': [0.159,'x','x',0.063,0.091,0.117,'x',0.114,0.097,0.104],\n",
    "        'F': [0.371,'x','x',0.230,0.319,0.083,'x',0.209,0.102,0.140]\n",
    "    },\n",
    "    'QM9': {\n",
    "        'unit': 'kcal/mol_D_A3',\n",
    "        'mae': [0.012,0.007,0.636,0.470,1.054,0.018,0.030,0.135,0.134,0.138,0.169,0.024]\n",
    "    }\n",
    "}"
   ]
  },
  {
   "cell_type": "code",
   "execution_count": 77,
   "id": "3d0df0d5",
   "metadata": {},
   "outputs": [],
   "source": [
    "eninet = {\n",
    "    'MD17': {\n",
    "        'unit': 'kcal',\n",
    "        'E': [0.148,'x',0.074,0.043,0.071,0.077,'x',0.092,0.078,0.093],\n",
    "        'F': [0.198,'x',0.169,0.100,0.192,0.046,'x',0.093,0.051,0.082]\n",
    "    }\n",
    "}"
   ]
  },
  {
   "cell_type": "code",
   "execution_count": 78,
   "id": "e21d7b46",
   "metadata": {},
   "outputs": [],
   "source": [
    "spookynet  = {\n",
    "    'MD17': {\n",
    "        'unit': 'kcal',\n",
    "        'E': [0.151,'x','x',0.052,0.079,0.116,'x',0.114,0.094,0.105],\n",
    "        'F': [0.258,'x','x',0.094,0.167,0.089,'x',0.180,0.087,0.119]\n",
    "    }\n",
    "}"
   ]
  },
  {
   "cell_type": "code",
   "execution_count": 79,
   "id": "7b0f39a3",
   "metadata": {},
   "outputs": [],
   "source": [
    "neqip_l0 = {\n",
    "    'MD17': {\n",
    "        'unit': 'kcal',\n",
    "        'E': [0.581,0.468,0.074,0.046,0.101,0.339,0.404,0.263,0.224,0.231],\n",
    "        'F': [0.973,0.793,0.238,0.274,0.535,0.475,0.775,0.687,0.613,0.600]\n",
    "    }\n",
    "}\n",
    "\n",
    "neqip_l1 = {\n",
    "    'MD17': {\n",
    "        'unit': 'kcal''kcal',\n",
    "        'E': [0.088,0.025,0.002,0.023,0.037,0.009,0.048,0.023,0.012,0.014],\n",
    "        'F': [0.291,0.104,0.009,0.150,0.238,0.048,0.214,0.131,0.060,0.095]\n",
    "    }\n",
    "}\n",
    "\n",
    "neqip_l2 = {\n",
    "    'MD17': {\n",
    "        'unit': 'kcal',\n",
    "        'E': [0.055,0.018,0.001,0.012,0.021,0.007,0.032,0.018,0.007,0.009],\n",
    "        'F': [0.196,0.076,0.009,0.081,0.136,0.032,0.136,0.097,0.042,0.067]\n",
    "    }\n",
    "}\n",
    "\n",
    "neqip_l3 = {\n",
    "    'MD17': {\n",
    "        'unit': 'kcal',\n",
    "        'E': [0.053,0.016,0.001,0.009,0.018,0.005,0.032,0.016,0.007,0.009],\n",
    "        'F': [0.189,0.067,0.007,0.065,0.118,0.030,0.136,0.092,0.037,0.071]\n",
    "    }\n",
    "}"
   ]
  },
  {
   "cell_type": "code",
   "execution_count": 80,
   "id": "ee4138f8",
   "metadata": {},
   "outputs": [],
   "source": [
    "mace = {\n",
    "    'MD17': {\n",
    "        'unit': 'kcal',\n",
    "        'E': [0.051,0.028,0.009,0.009,0.018,0.012,0.030,0.021,0.012,0.012],\n",
    "        'F': [0.152,0.069,0.007,0.048,0.095,0.037,0.111,0.071,0.035,0.048]\n",
    "    }\n",
    "}"
   ]
  },
  {
   "cell_type": "code",
   "execution_count": 81,
   "id": "5d5451b0",
   "metadata": {},
   "outputs": [],
   "source": [
    "newtonnet = {\n",
    "    'MD17': {\n",
    "        'unit': 'kcal',\n",
    "        'E': [0.168,0.142,'x',0.078,0.096,0.118,0.135,0.115,0.094,0.107],\n",
    "        'F': [0.348,0.138,'x',0.264,0.323,0.084,0.263,0.197,0.088,0.149]\n",
    "    }\n",
    "}"
   ]
  },
  {
   "cell_type": "code",
   "execution_count": 82,
   "id": "35b3a4c7",
   "metadata": {},
   "outputs": [],
   "source": [
    "allegro = {\n",
    "    'MD17': {\n",
    "        'unit': 'kcal',\n",
    "        'E': [0.053,0.028,0.007,0.009,0.014,0.012,0.035,0.021,0.009,0.014],\n",
    "        'F': [0.168,0.060,0.005,0.048,0.083,0.021,0.113,0.067,0.042,0.042]\n",
    "    }\n",
    "}"
   ]
  },
  {
   "cell_type": "code",
   "execution_count": 83,
   "id": "91e7c7c0",
   "metadata": {},
   "outputs": [],
   "source": [
    "so3krates = {\n",
    "    'MD17': {\n",
    "        'unit': 'kcal',\n",
    "        'E': [0.139,'x','x',0.052,0.077,0.115,'x',0.106,0.095,0.103],\n",
    "        'F': [0.236,'x','x',0.096,0.147,0.074,'x',0.145,0.073,0.111]\n",
    "    }\n",
    "}"
   ]
  },
  {
   "cell_type": "code",
   "execution_count": 84,
   "id": "bf444f4b",
   "metadata": {},
   "outputs": [],
   "source": [
    "# fchl_19 = {\n",
    "#     'MD17': {\n",
    "#         'unit': 'kcal',\n",
    "#         'E': [0.182,'x','x',0.054,0.081,0.117,'x',0.114,0.098,0.104],\n",
    "#         'F': [0.478,'x','x',0.136,0.245,0.151,'x',0.221,0.203,0.105]\n",
    "#     }\n",
    "# } \n",
    "\n",
    "fchl_19 = {\n",
    "    'MD17': {\n",
    "        'unit': 'kcal',\n",
    "        'E': [0.143,0.065,0.008,0.021,0.035,0.028,0.067,0.042,0.039,0.014],\n",
    "        'F': [0.482,0.249,0.060,0.143,0.238,0.150,0.284,0.219,0.203,0.097]\n",
    "    }\n",
    "} "
   ]
  },
  {
   "cell_type": "code",
   "execution_count": 85,
   "id": "72164cfa",
   "metadata": {},
   "outputs": [],
   "source": [
    "gap_soap = {\n",
    "    'MD17': {\n",
    "        'unit': 'kcal',\n",
    "        'E': [0.408,0.196,0.017,0.081,0.111,0.088,0.196,0.129,0.092,0.069],\n",
    "        'F': [1.035,0.565,0.138,0.417,0.609,0.381,0.666,0.570,0.410,0.406]\n",
    "    }\n",
    "}"
   ]
  },
  {
   "cell_type": "code",
   "execution_count": 86,
   "id": "44b1ca4b",
   "metadata": {},
   "outputs": [],
   "source": [
    "# sgdml = {\n",
    "#     'MD17': {\n",
    "#         'unit': 'kcal',\n",
    "#         'E': [0.19,0.092,'x',0.07,0.10,0.12,0.153,0.12,0.10,0.11],\n",
    "#         'F': [0.68,0.409,'x',0.33,0.41,0.11,0.491,0.28,0.14,0.24]\n",
    "#     }\n",
    "# }\n",
    "\n",
    "sgdml = {\n",
    "    'MD17': {\n",
    "        'unit': 'kcal',\n",
    "        'E': [0.166,0.099,0.001,0.055,0.071,0.018,0.115,0.048,0.023,0.032],\n",
    "        'F': [0.733,0.443,0.018,0.369,0.434,0.125,0.537,0.295,0.145,0.240]\n",
    "    }\n",
    "}"
   ]
  },
  {
   "cell_type": "code",
   "execution_count": 87,
   "id": "188ac224",
   "metadata": {},
   "outputs": [],
   "source": [
    "ace = {\n",
    "    'MD17': {\n",
    "        'unit': 'kcal',\n",
    "        'E': [0.141,0.083,0.001,0.028,0.039,0.021,0.092,0.042,0.025,0.025],\n",
    "        'F': [0.413,0.251,0.012,0.168,0.256,0.118,0.293,0.214,0.150,0.152]\n",
    "    }\n",
    "}"
   ]
  },
  {
   "cell_type": "code",
   "execution_count": 88,
   "id": "0ebb04e0",
   "metadata": {},
   "outputs": [],
   "source": [
    "framework_MD17 = [\n",
    "    ['SchNet',schnet],\n",
    "    ['DimeNet',dimenet],\n",
    "    ['PhysNet',physnet],\n",
    "    ['GemNet(Q)',gemnet_q],\n",
    "    ['GemNet(T)',gemnet_t],\n",
    "    ['PaiNN(F)',painn_force_only],\n",
    "    ['PaiNN(F+E)',painn_force_energy ],\n",
    "    ['ENINet',eninet],\n",
    "    ['SpookyNet',spookynet],\n",
    "    ['NequIP(l=0)',neqip_l0],\n",
    "    ['NequIP(l=1)',neqip_l1],\n",
    "    ['NequIP(l=2)',neqip_l2],\n",
    "    ['NequIP(l=3)',neqip_l3],\n",
    "    ['MACE',mace],\n",
    "    ['NewtonNet',newtonnet],\n",
    "    ['Allegro',allegro],\n",
    "    ['SO3krates',so3krates],\n",
    "    ['FCHL19',fchl_19],\n",
    "    ['GAP(SOAP)',gap_soap],\n",
    "    ['sGDML',sgdml],\n",
    "    ['ACE',ace],\n",
    "]"
   ]
  },
  {
   "cell_type": "markdown",
   "id": "82fe2707",
   "metadata": {},
   "source": [
    "#### For MD17 dataset"
   ]
  },
  {
   "cell_type": "code",
   "execution_count": 89,
   "id": "e1dcd9b9",
   "metadata": {},
   "outputs": [],
   "source": [
    "data = {} # Energy\n",
    "\n",
    "for ml in framework_MD17:  \n",
    "    data[ml[0]] = ml[1]['MD17']['E']\n",
    "\n",
    "df = pd.DataFrame(data)\n",
    "df.index = ['Aspirin','Azobenzene','Benzene','Ethanol','Malonaldehyde','Naphthalene','Paracetamol','Salicylic_Acid','Toluene','Uracil']\n",
    "df.index.name = \"MD17_molecules\"\n",
    "df.to_csv(\"MD17_Energy.csv\", index=True)\n",
    "\n",
    "\n",
    "data = {} # Force\n",
    "\n",
    "for ml in framework_MD17:  \n",
    "    data[ml[0]] = ml[1]['MD17']['F']\n",
    "\n",
    "df = pd.DataFrame(data)\n",
    "df.index = ['Aspirin','Azobenzene','Benzene','Ethanol','Malonaldehyde','Naphthalene','Paracetamol','Salicylic_Acid','Toluene','Uracil']\n",
    "df.index.name = \"MD17_molecules\"\n",
    "df.to_csv(\"MD17_Force.csv\", index=True)"
   ]
  },
  {
   "cell_type": "markdown",
   "id": "7d91fee9",
   "metadata": {},
   "source": [
    "For QM9 dataset"
   ]
  },
  {
   "cell_type": "code",
   "execution_count": 90,
   "id": "8fce0735",
   "metadata": {},
   "outputs": [],
   "source": [
    "# data = {} \n",
    "\n",
    "# for ml in framework_MD17:  \n",
    "#     if 'QM9' in ml[1]:\n",
    "#         data[ml[0]] = ml[1]['QM9']['mae']\n",
    "\n",
    "# df = pd.DataFrame(data)\n",
    "# df.index = ['μ','α ','HOMO','LUMO','∆','<R2>','ZPVE','U0','U','H','G','cv']\n",
    "# df.index.name = \"QM9_properties\"\n",
    "# df.to_csv(\"QM9.csv\", index=True)"
   ]
  },
  {
   "cell_type": "code",
   "execution_count": null,
   "id": "45848353",
   "metadata": {},
   "outputs": [],
   "source": []
  }
 ],
 "metadata": {
  "kernelspec": {
   "display_name": "Python 3",
   "language": "python",
   "name": "python3"
  },
  "language_info": {
   "codemirror_mode": {
    "name": "ipython",
    "version": 3
   },
   "file_extension": ".py",
   "mimetype": "text/x-python",
   "name": "python",
   "nbconvert_exporter": "python",
   "pygments_lexer": "ipython3",
   "version": "3.12.3"
  }
 },
 "nbformat": 4,
 "nbformat_minor": 5
}
