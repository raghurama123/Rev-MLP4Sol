{
 "cells": [
  {
   "cell_type": "code",
   "execution_count": 124,
   "id": "5c1db941",
   "metadata": {},
   "outputs": [],
   "source": [
    "import numpy as np \n",
    "import pandas as pd \n",
    "\n",
    "meV2kcal = 23.0609 * 10**(-3) # 1 eV = 23.0609 kcal/mol"
   ]
  },
  {
   "cell_type": "markdown",
   "id": "3b8b756e",
   "metadata": {},
   "source": [
    "For **MD17** dataset, the MAEs will be always in the follwoing order: \n",
    "1. Aspirin\n",
    "2. Azobenzene\n",
    "3. Benzene\n",
    "4. Ethanol\n",
    "5. Malondialdehyde\n",
    "6. Naphthalene\n",
    "7. Paracetamol\n",
    "8. Salicylic_Acid\n",
    "9. Toluene\n",
    "10. Uracil\n",
    "\n",
    "For **QM9** dataset, the MAEs will be always in the follwoing order: \n",
    "1. Dipole moment\n",
    "2. Polarizability\n",
    "3. HOMO\n",
    "4. LUMO\n",
    "5. HOMO-LUMO gap \n",
    "6. < R<sup>2</sup> >\n",
    "7. Zero point energy\n",
    "8. Internal energy\n",
    "9. Enthaply\n",
    "10. Free energy at 298.15 K ()\n",
    "11. Heat capacity \n",
    "12. \n",
    "13.\n",
    "\n",
    "If analysis for a molcule for particular ML archetecture is missing, then it will be marked by '**-1**'."
   ]
  },
  {
   "cell_type": "markdown",
   "id": "502b44ff",
   "metadata": {},
   "source": [
    "Poitns to be remebered\n",
    "1. For MD17 , training size is <b>1000</b> datasets (950/50).\n",
    "2. Data from <b>original</b> paper.\n",
    "3. <b>Rounding</b> of MAEs."
   ]
  },
  {
   "cell_type": "markdown",
   "id": "3edd4a16",
   "metadata": {},
   "source": [
    "Framework: <b>SchNet</b>\n",
    "<br>\n",
    "DOI: <i></i>\n",
    "\n"
   ]
  },
  {
   "cell_type": "code",
   "execution_count": 125,
   "id": "48d1f097",
   "metadata": {},
   "outputs": [],
   "source": [
    "schnet = {\n",
    "    'MD17': {\n",
    "        'unit': 'kcal',\n",
    "        'E': [0.37,'x',0.08,0.08,0.13,0.16,'x',0.20,0.12,0.14],\n",
    "        'F': [1.35,'x',0.31,0.39,0.66,0.58,'x',0.85,0.57,0.56]\n",
    "    }\n",
    "}\n"
   ]
  },
  {
   "cell_type": "code",
   "execution_count": 126,
   "id": "c5a53677",
   "metadata": {},
   "outputs": [],
   "source": [
    "# mgcn = {\n",
    "#     'MD17': {\n",
    "#         'unit': ,\n",
    "#         'E': [],\n",
    "#         'F': []\n",
    "#     }\n",
    "# }\n",
    "\n",
    "# MGCN have no data with MD17."
   ]
  },
  {
   "cell_type": "code",
   "execution_count": 127,
   "id": "edc9c42f",
   "metadata": {},
   "outputs": [],
   "source": [
    "dimenet = {\n",
    "    'MD17': {\n",
    "        'unit': 'kcal',\n",
    "        'E': [0.204,'x',0.078,0.064,0.104,0.122,'x',0.134,0.102,0.115],\n",
    "        'F': [0.499,'x',0.187,0.230,0.383,0.215,'x',0.374,0.216,0.301]\n",
    "    }\n",
    "}"
   ]
  },
  {
   "cell_type": "code",
   "execution_count": 128,
   "id": "be580a02",
   "metadata": {},
   "outputs": [],
   "source": [
    "physnet  = {\n",
    "    'MD17': {\n",
    "        'unit': 'kcal',\n",
    "        'E': [0.230,'x','x',0.059,0.094,0.142,'x',0.126,0.100,0.108],\n",
    "        'F': [0.605,'x','x',0.160,0.319,0.310,'x',0.337,0.191,0.218]\n",
    "    }\n",
    "}\n",
    "\n",
    "# This is for 1k training data, reported in PaiNN paper.\n",
    "# In the original PhysNet paper, the training was done on 50k training data."
   ]
  },
  {
   "cell_type": "code",
   "execution_count": 129,
   "id": "bc698795",
   "metadata": {},
   "outputs": [],
   "source": [
    "gemnet_q  = {\n",
    "    'MD17': {\n",
    "        'unit': 'kcal',\n",
    "        'E': ['x','x','x','x','x','x','x','x','x','x'],\n",
    "        'F': [0.217,'x','x',0.088,0.159,0.051,'x',0.124,0.060,0.104]\n",
    "    }\n",
    "}\n",
    "\n",
    "gemnet_t  = {\n",
    "    'MD17': {\n",
    "        'unit': 'kcal',\n",
    "        'E': ['x','x','x','x','x','x','x','x','x','x'],\n",
    "        'F': [0.219,'x','x',0.085,0.155,0.055,'x',0.127,0.060,0.097]\n",
    "    }\n",
    "}"
   ]
  },
  {
   "cell_type": "code",
   "execution_count": 130,
   "id": "81897487",
   "metadata": {},
   "outputs": [],
   "source": [
    "painn_force_only = { #Trained on forces only\n",
    "    'MD17': {\n",
    "        'unit': 'kcal',\n",
    "        'E': [0.167,'x','x',0.064,0.100,0.116,'x',0.116,0.095,0.106],\n",
    "        'F': [0.338,'x','x',0.224,0.344,0.077,'x',0.195,0.094,0.139]\n",
    "    }\n",
    "}\n",
    "\n",
    "painn_force_energy = { #Trained on both both energies and forces\n",
    "    'MD17': {\n",
    "        'unit': 'kcal',\n",
    "        'E': [0.159,'x','x',0.063,0.091,0.117,'x',0.114,0.097,0.104],\n",
    "        'F': [0.371,'x','x',0.230,0.319,0.083,'x',0.209,0.102,0.140]\n",
    "    }\n",
    "}"
   ]
  },
  {
   "cell_type": "code",
   "execution_count": 131,
   "id": "3d0df0d5",
   "metadata": {},
   "outputs": [],
   "source": [
    "eninet = {\n",
    "    'MD17': {\n",
    "        'unit': 'kcal',\n",
    "        'E': [0.148,np.nan,0.074,0.043,0.071,0.077,np.nan,0.092,0.078,0.093],\n",
    "        'F': [0.198,np.nan,0.169,0.100,0.192,0.046,np.nan,0.093,0.051,0.082]\n",
    "    }\n",
    "}"
   ]
  },
  {
   "cell_type": "code",
   "execution_count": 132,
   "id": "e21d7b46",
   "metadata": {},
   "outputs": [],
   "source": [
    "spookynet  = {\n",
    "    'MD17': {\n",
    "        'unit': 'kcal',\n",
    "        'E': [0.151,'x','x',0.052,0.079,0.116,'x',0.114,0.094,0.105],\n",
    "        'F': [0.258,'x','x',0.094,0.167,0.089,'x',0.180,0.087,0.119]\n",
    "    }\n",
    "}"
   ]
  },
  {
   "cell_type": "code",
   "execution_count": 133,
   "id": "7b0f39a3",
   "metadata": {},
   "outputs": [],
   "source": [
    "neqip_l0 = {\n",
    "    'MD17': {\n",
    "        'unit': 'kcal',\n",
    "        'E': [0.581,0.468,0.074,0.046,0.101,0.339,0.404,0.263,0.224,0.231],\n",
    "        'F': [0.973,0.793,0.238,0.274,0.535,0.475,0.775,0.687,0.613,0.600]\n",
    "    }\n",
    "}\n",
    "\n",
    "neqip_l1 = {\n",
    "    'MD17': {\n",
    "        'unit': 'kcal''kcal',\n",
    "        'E': [0.088,0.025,0.002,0.023,0.037,0.009,0.048,0.023,0.012,0.014],\n",
    "        'F': [0.291,0.104,0.009,0.150,0.238,0.048,0.214,0.131,0.060,0.095]\n",
    "    }\n",
    "}\n",
    "\n",
    "neqip_l2 = {\n",
    "    'MD17': {\n",
    "        'unit': 'kcal',\n",
    "        'E': [0.055,0.018,0.001,0.012,0.021,0.007,0.032,0.018,0.007,0.009],\n",
    "        'F': [0.196,0.076,0.009,0.081,0.136,0.032,0.136,0.097,0.042,0.067]\n",
    "    }\n",
    "}\n",
    "\n",
    "neqip_l3 = {\n",
    "    'MD17': {\n",
    "        'unit': 'kcal',\n",
    "        'E': [0.053,0.016,0.001,0.009,0.018,0.005,0.032,0.016,0.007,0.009],\n",
    "        'F': [0.189,0.067,0.007,0.065,0.118,0.030,0.136,0.092,0.037,0.071]\n",
    "    }\n",
    "}"
   ]
  },
  {
   "cell_type": "code",
   "execution_count": 134,
   "id": "ee4138f8",
   "metadata": {},
   "outputs": [],
   "source": [
    "mace = {\n",
    "    'MD17': {\n",
    "        'unit': 'kcal',\n",
    "        'E': [0.051,0.028,0.009,0.009,0.018,0.012,0.030,0.021,0.012,0.012],\n",
    "        'F': [0.125,0.069,0.007,0.048,0.095,0.037,0.111,0.071,0.035,0.048]\n",
    "    }\n",
    "}"
   ]
  },
  {
   "cell_type": "code",
   "execution_count": 135,
   "id": "5d5451b0",
   "metadata": {},
   "outputs": [],
   "source": [
    "newtonnet = {\n",
    "    'MD17': {\n",
    "        'unit': 'kcal',\n",
    "        'E': [0.168,0.142,'x',0.078,0.096,0.118,0.141,0.115,0.094,0.107],\n",
    "        'F': [0.348,0.138,'x',0.264,0.323,0.084,0.263,0.197,0.088,0.149]\n",
    "    }\n",
    "}"
   ]
  },
  {
   "cell_type": "code",
   "execution_count": 136,
   "id": "35b3a4c7",
   "metadata": {},
   "outputs": [],
   "source": [
    "allegro = {\n",
    "    'MD17': {\n",
    "        'unit': 'kcal',\n",
    "        'E': [0.053,0.028,0.007,0.009,0.014,0.005,0.035,0.021,0.009,0.014],\n",
    "        'F': [0.168,0.060,0.005,0.048,0.083,0.021,0.113,0.067,0.042,0.042]\n",
    "    }\n",
    "}"
   ]
  },
  {
   "cell_type": "code",
   "execution_count": 137,
   "id": "91e7c7c0",
   "metadata": {},
   "outputs": [],
   "source": [
    "so3krates = {\n",
    "    'MD17': {\n",
    "        'unit': 'kcal',\n",
    "        'E': [0.139,'x','x',0.052,0.077,0.115,'x',0.106,0.095,0.103],\n",
    "        'F': [0.236,'x','x',0.096,0.147,0.074,'x',0.145,0.073,0.111]\n",
    "    }\n",
    "}"
   ]
  },
  {
   "cell_type": "code",
   "execution_count": 138,
   "id": "bf444f4b",
   "metadata": {},
   "outputs": [],
   "source": [
    "fchl_19 = {\n",
    "    'MD17': {\n",
    "        'unit': 'kcal',\n",
    "        'E': [0.182,'x','x',0.054,0.081,0.117,'x',0.114,0.098,0.104],\n",
    "        'F': [0.478,'x','x',0.136,0.245,0.151,'x',0.221,0.203,0.105]\n",
    "    }\n",
    "} "
   ]
  },
  {
   "cell_type": "code",
   "execution_count": 139,
   "id": "72164cfa",
   "metadata": {},
   "outputs": [],
   "source": [
    "gap_soap = {\n",
    "    'MD17': {\n",
    "        'unit': 'kcal',\n",
    "        'E': [0.408,0.196,0.017,0.081,0.111,0.088,0.196,0.129,0.092,0.069],\n",
    "        'F': [1.035,0.565,0.138,0.417,0.609,0.381,0.666,0.570,0.410,0.406]\n",
    "    }\n",
    "}"
   ]
  },
  {
   "cell_type": "code",
   "execution_count": 140,
   "id": "44b1ca4b",
   "metadata": {},
   "outputs": [],
   "source": [
    "sgdml = {\n",
    "    'MD17': {\n",
    "        'unit': 'kcal',\n",
    "        'E': [0.19,0.092,'x',0.07,0.10,0.12,0.153,0.12,0.10,0.11],\n",
    "        'F': [0.68,0.409,'x',0.33,0.41,0.11,0.491,0.28,0.14,0.24]\n",
    "    }\n",
    "}"
   ]
  },
  {
   "cell_type": "code",
   "execution_count": 141,
   "id": "f501b0ac",
   "metadata": {},
   "outputs": [],
   "source": [
    "md17_molecules = [\n",
    "    'Aspirin',\n",
    "    'Azobenzene',\n",
    "    'Benzene',\n",
    "    'Ethanol',\n",
    "    'Malondialdehyde',\n",
    "    'Naphthalene',\n",
    "    'Paracetamol',\n",
    "    'Salicylic_Acid',\n",
    "    'Toluene',\n",
    "    'Uracil',\n",
    "]"
   ]
  },
  {
   "cell_type": "code",
   "execution_count": 142,
   "id": "0ebb04e0",
   "metadata": {},
   "outputs": [],
   "source": [
    "framework_MD17 = [\n",
    "    ['schnet',schnet],\n",
    "    ['dimenet',dimenet],\n",
    "    ['physnet',physnet],\n",
    "    ['gemnet_q',gemnet_q],\n",
    "    ['gemnet_t',gemnet_t],\n",
    "    ['painn_force_only',painn_force_only],\n",
    "    ['painn_force_energy',painn_force_energy ],\n",
    "    ['eninet',eninet],\n",
    "    ['spookynet',spookynet],\n",
    "    ['neqip_l0',neqip_l0],\n",
    "    ['neqip_l1',neqip_l1],\n",
    "    ['neqip_l2',neqip_l2],\n",
    "    ['neqip_l3',neqip_l3],\n",
    "    ['mace',mace],\n",
    "    ['newtonnet',newtonnet],\n",
    "    ['allegro',allegro],\n",
    "    ['so3krates',so3krates],\n",
    "    ['fchl_19',fchl_19],\n",
    "    ['gap_soap',gap_soap],\n",
    "    ['sgdml',sgdml],\n",
    "]"
   ]
  },
  {
   "cell_type": "code",
   "execution_count": 143,
   "id": "caef6b24",
   "metadata": {},
   "outputs": [
    {
     "name": "stdout",
     "output_type": "stream",
     "text": [
      "[0.37, 'x', 0.08, 0.08, 0.13, 0.16, 'x', 0.2, 0.12, 0.14]\n",
      "[0.204, 'x', 0.078, 0.064, 0.104, 0.122, 'x', 0.134, 0.102, 0.115]\n",
      "[0.23, 'x', 'x', 0.059, 0.094, 0.142, 'x', 0.126, 0.1, 0.108]\n",
      "['x', 'x', 'x', 'x', 'x', 'x', 'x', 'x', 'x', 'x']\n",
      "['x', 'x', 'x', 'x', 'x', 'x', 'x', 'x', 'x', 'x']\n",
      "[0.167, 'x', 'x', 0.064, 0.1, 0.116, 'x', 0.116, 0.095, 0.106]\n",
      "[0.159, 'x', 'x', 0.063, 0.091, 0.117, 'x', 0.114, 0.097, 0.104]\n",
      "[0.148, nan, 0.074, 0.043, 0.071, 0.077, nan, 0.092, 0.078, 0.093]\n",
      "[0.151, 'x', 'x', 0.052, 0.079, 0.116, 'x', 0.114, 0.094, 0.105]\n",
      "[0.581, 0.468, 0.074, 0.046, 0.101, 0.339, 0.404, 0.263, 0.224, 0.231]\n",
      "[0.088, 0.025, 0.002, 0.023, 0.037, 0.009, 0.048, 0.023, 0.012, 0.014]\n",
      "[0.055, 0.018, 0.001, 0.012, 0.021, 0.007, 0.032, 0.018, 0.007, 0.009]\n",
      "[0.053, 0.016, 0.001, 0.009, 0.018, 0.005, 0.032, 0.016, 0.007, 0.009]\n",
      "[0.051, 0.028, 0.009, 0.009, 0.018, 0.012, 0.03, 0.021, 0.012, 0.012]\n",
      "[0.168, 0.142, 'x', 0.078, 0.096, 0.118, 0.141, 0.115, 0.094, 0.107]\n",
      "[0.053, 0.028, 0.007, 0.009, 0.014, 0.005, 0.035, 0.021, 0.009, 0.014]\n",
      "[0.139, 'x', 'x', 0.052, 0.077, 0.115, 'x', 0.106, 0.095, 0.103]\n",
      "[0.182, 'x', 'x', 0.054, 0.081, 0.117, 'x', 0.114, 0.098, 0.104]\n",
      "[0.408, 0.196, 0.017, 0.081, 0.111, 0.088, 0.196, 0.129, 0.092, 0.069]\n",
      "[0.19, 0.092, 'x', 0.07, 0.1, 0.12, 0.153, 0.12, 0.1, 0.11]\n"
     ]
    }
   ],
   "source": [
    "for ml in framework_MD17:\n",
    "    print(ml[1]['MD17']['E'])"
   ]
  },
  {
   "cell_type": "markdown",
   "id": "82fe2707",
   "metadata": {},
   "source": [
    "#### For MD17 dataset"
   ]
  },
  {
   "cell_type": "code",
   "execution_count": null,
   "id": "e1dcd9b9",
   "metadata": {},
   "outputs": [],
   "source": [
    "data = {} # Energy\n",
    "\n",
    "for ml in framework_MD17:  \n",
    "    data[ml[0]] = ml[1]['MD17']['E']\n",
    "\n",
    "df = pd.DataFrame(data)\n",
    "df.to_csv(\"MD17_Energy.csv\", index=False)\n"
   ]
  },
  {
   "cell_type": "code",
   "execution_count": null,
   "id": "d549602d",
   "metadata": {},
   "outputs": [],
   "source": []
  },
  {
   "cell_type": "code",
   "execution_count": null,
   "id": "319790b3",
   "metadata": {},
   "outputs": [],
   "source": []
  },
  {
   "cell_type": "code",
   "execution_count": null,
   "id": "96ffd80a",
   "metadata": {},
   "outputs": [],
   "source": []
  }
 ],
 "metadata": {
  "kernelspec": {
   "display_name": "Python 3",
   "language": "python",
   "name": "python3"
  },
  "language_info": {
   "codemirror_mode": {
    "name": "ipython",
    "version": 3
   },
   "file_extension": ".py",
   "mimetype": "text/x-python",
   "name": "python",
   "nbconvert_exporter": "python",
   "pygments_lexer": "ipython3",
   "version": "3.12.3"
  }
 },
 "nbformat": 4,
 "nbformat_minor": 5
}
